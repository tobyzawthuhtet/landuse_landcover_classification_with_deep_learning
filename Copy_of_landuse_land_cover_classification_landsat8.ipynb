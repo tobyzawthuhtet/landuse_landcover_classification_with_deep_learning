{
  "nbformat": 4,
  "nbformat_minor": 0,
  "metadata": {
    "colab": {
      "name": "Copy of landuse land cover classification landsat8.ipynb",
      "provenance": [],
      "collapsed_sections": [],
      "mount_file_id": "1O1vpHXjjcqP4LdrNQn3sk0CMvUu8SDr_",
      "authorship_tag": "ABX9TyNjruDcGz/emQFW3IbumgJ1",
      "include_colab_link": true
    },
    "kernelspec": {
      "display_name": "Python 3",
      "name": "python3"
    },
    "language_info": {
      "name": "python"
    }
  },
  "cells": [
    {
      "cell_type": "markdown",
      "metadata": {
        "id": "view-in-github",
        "colab_type": "text"
      },
      "source": [
        "<a href=\"https://colab.research.google.com/github/tobyzawthuhtet/landuse_landcover_classification_with_deep_learning/blob/main/Copy_of_landuse_land_cover_classification_landsat8.ipynb\" target=\"_parent\"><img src=\"https://colab.research.google.com/assets/colab-badge.svg\" alt=\"Open In Colab\"/></a>"
      ]
    },
    {
      "cell_type": "code",
      "metadata": {
        "colab": {
          "base_uri": "https://localhost:8080/"
        },
        "id": "jR116kit7tCo",
        "outputId": "d51da93d-24f3-4b37-8a6c-1e9f68f6bb93"
      },
      "source": [
        "!pip install pyrsgis"
      ],
      "execution_count": null,
      "outputs": [
        {
          "output_type": "stream",
          "text": [
            "Collecting pyrsgis\n",
            "  Downloading https://files.pythonhosted.org/packages/fe/66/75afad55ef99270f9e19546a33b865eb241bb9339c648025815b7d75cd65/pyrsgis-0.3.7-py3-none-any.whl\n",
            "Installing collected packages: pyrsgis\n",
            "Successfully installed pyrsgis-0.3.7\n"
          ],
          "name": "stdout"
        }
      ]
    },
    {
      "cell_type": "code",
      "metadata": {
        "id": "8LclcYgJzx9O",
        "colab": {
          "base_uri": "https://localhost:8080/"
        },
        "outputId": "a4663477-a27d-4c3d-c06f-841caf65b34e"
      },
      "source": [
        "import os\n",
        "import numpy as np\n",
        "from tensorflow import keras\n",
        "from pyrsgis import raster\n",
        "from pyrsgis.convert import changeDimension\n",
        "from sklearn.model_selection import train_test_split\n",
        "from sklearn.metrics import confusion_matrix, precision_score, recall_score\n",
        "import matplotlib.pyplot as plt\n",
        "import tensorflow as tf\n",
        "from tensorflow.keras.models import Sequential\n",
        "from tensorflow.keras.layers import Dense\n",
        "from tensorflow.keras.layers import Flatten\n",
        "import glob"
      ],
      "execution_count": null,
      "outputs": [
        {
          "output_type": "stream",
          "text": [
            "Warning! matplotlib_scalebar library not found. You may not be able to export map directly.\n"
          ],
          "name": "stdout"
        }
      ]
    },
    {
      "cell_type": "code",
      "metadata": {
        "id": "gSAmEU4lDKL3"
      },
      "source": [
        "os.chdir('/content/drive/MyDrive/Ukraine Urban Extraction Project')"
      ],
      "execution_count": null,
      "outputs": []
    },
    {
      "cell_type": "code",
      "metadata": {
        "colab": {
          "base_uri": "https://localhost:8080/"
        },
        "id": "yc9UgyvJGP9h",
        "outputId": "438253ee-cdd4-443b-d035-2c4649c17dcc"
      },
      "source": [
        "data = glob.glob(\"*.tif\")\n",
        "for i in data:\n",
        "  print(i)"
      ],
      "execution_count": null,
      "outputs": [
        {
          "output_type": "stream",
          "text": [
            "training_data.tif\n",
            "training_lable.tif\n",
            "testing_data.tif\n",
            "Test_predicted.tif\n",
            "Test_predicted1.tif\n"
          ],
          "name": "stdout"
        }
      ]
    },
    {
      "cell_type": "code",
      "metadata": {
        "id": "goPWYygOGWd0"
      },
      "source": [
        "mxTrain= 'training_data.tif'\n",
        "builtupTrain = 'training_lable.tif'\n",
        "mxTest = 'testing_data.tif'"
      ],
      "execution_count": null,
      "outputs": []
    },
    {
      "cell_type": "code",
      "metadata": {
        "id": "DPm0HqYoGsp1"
      },
      "source": [
        "ds1, featuresTrain = raster.read(mxTrain, bands='all')\n",
        "ds2, labelTrain = raster.read(builtupTrain, bands=1)\n",
        "ds3, featuresTest = raster.read(mxTest, bands='all')\n"
      ],
      "execution_count": null,
      "outputs": []
    },
    {
      "cell_type": "code",
      "metadata": {
        "colab": {
          "base_uri": "https://localhost:8080/"
        },
        "id": "zi1Im8nmHKwz",
        "outputId": "025dcf47-3426-44e1-a4c0-cbbc23a25d18"
      },
      "source": [
        "print(\"Train Multispectral image shape: \", featuresTrain.shape)\n",
        "print(\"Train Label Binary built-up image shape: \", labelTrain.shape)\n",
        "print(\"Test Multispectral image shape: \", featuresTest.shape)"
      ],
      "execution_count": null,
      "outputs": [
        {
          "output_type": "stream",
          "text": [
            "Train Multispectral image shape:  (10, 73, 277)\n",
            "Train Label Binary built-up image shape:  (73, 277)\n",
            "Test Multispectral image shape:  (10, 71, 277)\n"
          ],
          "name": "stdout"
        }
      ]
    },
    {
      "cell_type": "code",
      "metadata": {
        "id": "lq3tgqeDHNQl"
      },
      "source": [
        "labelTrain = (labelTrain == 1).astype(int)"
      ],
      "execution_count": null,
      "outputs": []
    },
    {
      "cell_type": "code",
      "metadata": {
        "id": "b5PLVWa2HOV6"
      },
      "source": [
        "featuresTrain = changeDimension(featuresTrain)\n",
        "labelTrain = changeDimension (labelTrain)\n",
        "featuresTest = changeDimension(featuresTest)\n",
        "nBands = featuresTrain.shape[1]\n"
      ],
      "execution_count": null,
      "outputs": []
    },
    {
      "cell_type": "code",
      "metadata": {
        "colab": {
          "base_uri": "https://localhost:8080/"
        },
        "id": "TxMtwIouHgXG",
        "outputId": "009b98d8-fe47-42e6-fe14-300e3cceffbd"
      },
      "source": [
        "print(\"Train Multispectral image shape: \", featuresTrain.shape)\n",
        "print(\"Train Label Binary built-up image shape: \", labelTrain.shape)\n",
        "print(\"Test Multispectral image shape: \", featuresTest.shape)\n"
      ],
      "execution_count": null,
      "outputs": [
        {
          "output_type": "stream",
          "text": [
            "Train Multispectral image shape:  (20221, 10)\n",
            "Train Label Binary built-up image shape:  (20221,)\n",
            "Test Multispectral image shape:  (19667, 10)\n"
          ],
          "name": "stdout"
        }
      ]
    },
    {
      "cell_type": "code",
      "metadata": {
        "id": "UsJ2cD5CHhxB"
      },
      "source": [
        "xTrain, xTest, yTrain, yTest = train_test_split(featuresTrain, labelTrain, test_size=0.4, random_state=42)\n"
      ],
      "execution_count": null,
      "outputs": []
    },
    {
      "cell_type": "code",
      "metadata": {
        "colab": {
          "base_uri": "https://localhost:8080/"
        },
        "id": "rZx0LKK6Hk6Z",
        "outputId": "c40fa6e3-f378-4287-edf7-6d8522591fe8"
      },
      "source": [
        "print(xTrain.shape)\n",
        "print(yTrain.shape)\n",
        "\n",
        "print(xTest.shape)\n",
        "print(yTest.shape)"
      ],
      "execution_count": null,
      "outputs": [
        {
          "output_type": "stream",
          "text": [
            "(12132, 10)\n",
            "(12132,)\n",
            "(8089, 10)\n",
            "(8089,)\n"
          ],
          "name": "stdout"
        }
      ]
    },
    {
      "cell_type": "code",
      "metadata": {
        "colab": {
          "base_uri": "https://localhost:8080/"
        },
        "id": "2axklfpaHmFm",
        "outputId": "dafc096b-116b-42bf-9db9-fad43df820f4"
      },
      "source": [
        "xTrain = xTrain / 255.0\n",
        "xTest = xTest / 255.0\n",
        "featuresTest  = featuresTest / 255.0\n",
        "print(featuresTest.shape)"
      ],
      "execution_count": null,
      "outputs": [
        {
          "output_type": "stream",
          "text": [
            "(19667, 10)\n"
          ],
          "name": "stdout"
        }
      ]
    },
    {
      "cell_type": "code",
      "metadata": {
        "id": "H0ZiqLjSHoP8"
      },
      "source": [
        "xTrain = xTrain.reshape((xTrain.shape[0], 1, xTrain.shape[1]))\n",
        "xTest = xTest.reshape((xTest.shape[0], 1, xTest.shape[1]))\n",
        "featuresTest = featuresTest.reshape((featuresTest.shape[0], 1, featuresTest.shape[1]))\n"
      ],
      "execution_count": null,
      "outputs": []
    },
    {
      "cell_type": "code",
      "metadata": {
        "colab": {
          "base_uri": "https://localhost:8080/"
        },
        "id": "hk1-_3rjHpjx",
        "outputId": "03e5dce5-5a9d-4b1f-fa77-63d04c11ed1f"
      },
      "source": [
        "print(xTrain.shape, xTest.shape, featuresTest.shape)"
      ],
      "execution_count": null,
      "outputs": [
        {
          "output_type": "stream",
          "text": [
            "(12132, 1, 10) (8089, 1, 10) (19667, 1, 10)\n"
          ],
          "name": "stdout"
        }
      ]
    },
    {
      "cell_type": "code",
      "metadata": {
        "id": "cR8dlHu8Batj"
      },
      "source": [
        "model = keras.Sequential([\n",
        "                        Flatten(input_shape=(1,nBands)),\n",
        "                        Dense(10, activation='relu'),\n",
        "                        Dense(2,activation='softmax')\n",
        "                          \n",
        "])"
      ],
      "execution_count": null,
      "outputs": []
    },
    {
      "cell_type": "code",
      "metadata": {
        "colab": {
          "base_uri": "https://localhost:8080/",
          "height": 847
        },
        "id": "btaRQxXkHu5B",
        "outputId": "8852252b-24f4-445a-9c36-7747605ed5a3"
      },
      "source": [
        "\n",
        "model.compile(optimizer=\"Adam\", loss=\"sparse_categorical_crossentropy\", metrics=[\"accuracy\"])\n",
        "# Run the model\n",
        "history = model.fit(xTrain, yTrain , validation_split=0.3, epochs=15, verbose=2)\n",
        "\n",
        "print(history.history.keys())\n",
        "# \"Loss\"\n",
        "plt.plot(history.history['loss'])\n",
        "plt.plot(history.history['val_loss'])\n",
        "plt.title('model loss')\n",
        "plt.ylabel('loss')\n",
        "plt.xlabel('epoch')\n",
        "plt.legend(['train', 'validation'], loc='upper left')\n",
        "plt.show()\n",
        "plt.savefig('Model loss.jpg')"
      ],
      "execution_count": null,
      "outputs": [
        {
          "output_type": "stream",
          "text": [
            "Epoch 1/15\n",
            "266/266 - 1s - loss: 0.5448 - accuracy: 0.8188 - val_loss: 0.4934 - val_accuracy: 0.8255\n",
            "Epoch 2/15\n",
            "266/266 - 0s - loss: 0.4815 - accuracy: 0.8188 - val_loss: 0.4530 - val_accuracy: 0.8255\n",
            "Epoch 3/15\n",
            "266/266 - 0s - loss: 0.4556 - accuracy: 0.8188 - val_loss: 0.4375 - val_accuracy: 0.8255\n",
            "Epoch 4/15\n",
            "266/266 - 0s - loss: 0.4465 - accuracy: 0.8188 - val_loss: 0.4323 - val_accuracy: 0.8255\n",
            "Epoch 5/15\n",
            "266/266 - 0s - loss: 0.4437 - accuracy: 0.8188 - val_loss: 0.4305 - val_accuracy: 0.8255\n",
            "Epoch 6/15\n",
            "266/266 - 0s - loss: 0.4429 - accuracy: 0.8188 - val_loss: 0.4301 - val_accuracy: 0.8255\n",
            "Epoch 7/15\n",
            "266/266 - 0s - loss: 0.4427 - accuracy: 0.8188 - val_loss: 0.4299 - val_accuracy: 0.8255\n",
            "Epoch 8/15\n",
            "266/266 - 0s - loss: 0.4427 - accuracy: 0.8188 - val_loss: 0.4299 - val_accuracy: 0.8255\n",
            "Epoch 9/15\n",
            "266/266 - 0s - loss: 0.4427 - accuracy: 0.8188 - val_loss: 0.4299 - val_accuracy: 0.8255\n",
            "Epoch 10/15\n",
            "266/266 - 0s - loss: 0.4427 - accuracy: 0.8188 - val_loss: 0.4299 - val_accuracy: 0.8255\n",
            "Epoch 11/15\n",
            "266/266 - 0s - loss: 0.4427 - accuracy: 0.8188 - val_loss: 0.4299 - val_accuracy: 0.8255\n",
            "Epoch 12/15\n",
            "266/266 - 0s - loss: 0.4427 - accuracy: 0.8188 - val_loss: 0.4299 - val_accuracy: 0.8255\n",
            "Epoch 13/15\n",
            "266/266 - 0s - loss: 0.4428 - accuracy: 0.8188 - val_loss: 0.4299 - val_accuracy: 0.8255\n",
            "Epoch 14/15\n",
            "266/266 - 0s - loss: 0.4427 - accuracy: 0.8188 - val_loss: 0.4299 - val_accuracy: 0.8255\n",
            "Epoch 15/15\n",
            "266/266 - 0s - loss: 0.4427 - accuracy: 0.8188 - val_loss: 0.4299 - val_accuracy: 0.8255\n",
            "dict_keys(['loss', 'accuracy', 'val_loss', 'val_accuracy'])\n"
          ],
          "name": "stdout"
        },
        {
          "output_type": "display_data",
          "data": {
            "image/png": "[encoded data removed]",
            "text/plain": [
              "<Figure size 432x288 with 1 Axes>"
            ]
          },
          "metadata": {
            "tags": [],
            "needs_background": "light"
          }
        },
        {
          "output_type": "display_data",
          "data": {
            "text/plain": [
              "<Figure size 432x288 with 0 Axes>"
            ]
          },
          "metadata": {
            "tags": []
          }
        }
      ]
    },
    {
      "cell_type": "code",
      "metadata": {
        "id": "fnbVf7C_GopG"
      },
      "source": [
        "model = keras.Sequential([\n",
        "   keras.layers.Flatten(input_shape=(1, nBands)),\n",
        "   keras.layers.Dense(16, activation='relu'),\n",
        "   keras.layers.Dense(2, activation='softmax')])"
      ],
      "execution_count": null,
      "outputs": []
    },
    {
      "cell_type": "code",
      "metadata": {
        "colab": {
          "base_uri": "https://localhost:8080/",
          "height": 312
        },
        "id": "9SsOXbh4JS1i",
        "outputId": "af22f864-0f04-4252-81e2-ac4b5af6f5e2"
      },
      "source": [
        "print(history.history.keys())\n",
        "# \"Loss\"\n",
        "plt.plot(history.history['accuracy'])\n",
        "plt.plot(history.history['val_accuracy'])\n",
        "plt.title('model accuracy')\n",
        "plt.ylabel('accuracy')\n",
        "plt.xlabel('epoch')\n",
        "plt.legend(['train', 'validation'], loc='upper left')\n",
        "plt.show()\n",
        "#plt.savefig('Model Accuracy.jpg')"
      ],
      "execution_count": null,
      "outputs": [
        {
          "output_type": "stream",
          "text": [
            "dict_keys(['loss', 'accuracy', 'val_loss', 'val_accuracy'])\n"
          ],
          "name": "stdout"
        },
        {
          "output_type": "display_data",
          "data": {
            "image/png": "[encoded data removed]",
            "text/plain": [
              "<Figure size 432x288 with 1 Axes>"
            ]
          },
          "metadata": {
            "tags": [],
            "needs_background": "light"
          }
        }
      ]
    },
    {
      "cell_type": "code",
      "metadata": {
        "colab": {
          "base_uri": "https://localhost:8080/",
          "height": 38
        },
        "id": "8FN7-UeRQ-jC",
        "outputId": "351faf0c-7a0b-4284-be12-45e3e7d26086"
      },
      "source": [
        "os.getcwd()"
      ],
      "execution_count": null,
      "outputs": [
        {
          "output_type": "execute_result",
          "data": {
            "application/vnd.google.colaboratory.intrinsic+json": {
              "type": "string"
            },
            "text/plain": [
              "'/content/drive/My Drive/Ukraine Urban Extraction Project'"
            ]
          },
          "metadata": {
            "tags": []
          },
          "execution_count": 19
        }
      ]
    },
    {
      "cell_type": "code",
      "metadata": {
        "id": "Rr5oZ6JdRCr4"
      },
      "source": [
        "yTestPredicted = model.predict(xTest)\n",
        "yTestPredicted = yTestPredicted[:,1]"
      ],
      "execution_count": null,
      "outputs": []
    },
    {
      "cell_type": "code",
      "metadata": {
        "colab": {
          "base_uri": "https://localhost:8080/"
        },
        "id": "FAdl6xT4fmp_",
        "outputId": "336f2210-92af-4c75-cfce-6b23aab9f867"
      },
      "source": [
        "yTestPredicted = (yTestPredicted>0.5).astype(int)\n",
        "cMatrix = confusion_matrix(yTest, yTestPredicted)\n",
        "pScore = precision_score(yTest, yTestPredicted)\n",
        "rScore = recall_score(yTest, yTestPredicted)\n",
        "print(\"Confusion matrix: for 14 nodes\\n\", cMatrix)\n",
        "print(\"\\nP-Score: %.3f, R-Score: %.3f\" % (pScore, rScore))\n"
      ],
      "execution_count": null,
      "outputs": [
        {
          "output_type": "stream",
          "text": [
            "Confusion matrix: for 14 nodes\n",
            " [[6660    0]\n",
            " [1429    0]]\n",
            "\n",
            "P-Score: 0.000, R-Score: 0.000\n"
          ],
          "name": "stdout"
        }
      ]
    },
    {
      "cell_type": "code",
      "metadata": {
        "id": "hd9ewDqxgPkC"
      },
      "source": [
        "predicted = model.predict(featuresTest)\n",
        "predicted = predicted[:,1]"
      ],
      "execution_count": null,
      "outputs": []
    },
    {
      "cell_type": "code",
      "metadata": {
        "id": "EVAs5fefgP_4"
      },
      "source": [
        "prediction = np.reshape(predicted, (ds3.RasterYSize, ds3.RasterXSize))\n",
        "outFile = 'Test_predicted1.tif'\n",
        "raster.export(prediction, ds3, filename=outFile, dtype='float')"
      ],
      "execution_count": null,
      "outputs": []
    },
    {
      "cell_type": "code",
      "metadata": {
        "id": "BpLMrQRuglPN",
        "colab": {
          "base_uri": "https://localhost:8080/"
        },
        "outputId": "58cf6cf2-29e5-44ce-c14d-21d90e8cd102"
      },
      "source": [
        "ls"
      ],
      "execution_count": null,
      "outputs": [
        {
          "output_type": "stream",
          "text": [
            "'Model Accuracy.jpg'   Test_predicted1.tif   training_lable.tif\n",
            "'Model loss.jpg'       Test_predicted.tif\n",
            " testing_data.tif      training_data.tif\n"
          ],
          "name": "stdout"
        }
      ]
    },
    {
      "cell_type": "code",
      "metadata": {
        "id": "nvJpmj56goPl"
      },
      "source": [
        ""
      ],
      "execution_count": null,
      "outputs": []
    }
  ]
}